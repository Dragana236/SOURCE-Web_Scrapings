{
 "cells": [
  {
   "cell_type": "code",
   "execution_count": 6,
   "metadata": {},
   "outputs": [],
   "source": [
    "from selenium import webdriver\n",
    "from bs4 import BeautifulSoup\n",
    "driver=webdriver.PhantomJS(executable_path=r'C:\\Users\\Dragana\\Anaconda2\\phantomjs-2.1.1-windows\\phantomjs-2.1.1-windows\\bin\\phantomjs.exe')\n",
    "url=('http://www.nba.com/players')\n",
    "driver.get(url)\n",
    "html_doc=driver.page_source\n",
    "soup=BeautifulSoup(html_doc,'lxml')\n",
    "players=soup.find('div',class_='row players-wrapper')\n",
    "for player_name in players.find_all('a'):\n",
    "    full=player_name.text\n",
    "    name=full.split('#')\n",
    "    #print name[0]\n",
    "driver.quit()"
   ]
  },
  {
   "cell_type": "code",
   "execution_count": null,
   "metadata": {
    "collapsed": true
   },
   "outputs": [],
   "source": []
  }
 ],
 "metadata": {
  "kernelspec": {
   "display_name": "Python 2",
   "language": "python",
   "name": "python2"
  },
  "language_info": {
   "codemirror_mode": {
    "name": "ipython",
    "version": 2
   },
   "file_extension": ".py",
   "mimetype": "text/x-python",
   "name": "python",
   "nbconvert_exporter": "python",
   "pygments_lexer": "ipython2",
   "version": "2.7.14"
  }
 },
 "nbformat": 4,
 "nbformat_minor": 2
}
