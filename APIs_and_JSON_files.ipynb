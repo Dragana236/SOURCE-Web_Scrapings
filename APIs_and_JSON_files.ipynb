{
 "cells": [
  {
   "cell_type": "code",
   "execution_count": 5,
   "metadata": {},
   "outputs": [
    {
     "data": {
      "text/plain": [
       "dict"
      ]
     },
     "execution_count": 5,
     "metadata": {},
     "output_type": "execute_result"
    }
   ],
   "source": [
    "#APIs-Application Programming Interface is a set of protocols and routins for building and interacting with software applications(bunch of codes that allows two software programs to comunite with each other)\n",
    "#we'll use OMDB API-for the open Movie Database, Twitter APPI and Wikipedia API to pull data for both applications\n",
    "#it is common to pull data from APIs in the JSON file format\n",
    "#JSONs-Java Script Object Notation\n",
    "#human readable, consists of name:value pairs separated by comma, remainds on Python dictionary\n",
    "#the keys in JSONs will always be string enclosed in '', values-strings, integers, even JSON objects(nested JSON)\n",
    "\n",
    "#Loading JSONs in Python\n",
    "import json\n",
    "with open('Movies.json','r') as json_file: #open a connection to the file\n",
    "    json_data=json.load(json_file)  #json.load is function to load json\n",
    "type(json_data)"
   ]
  },
  {
   "cell_type": "code",
   "execution_count": 6,
   "metadata": {},
   "outputs": [
    {
     "name": "stdout",
     "output_type": "stream",
     "text": [
      "(u'movies: ', {u'allIDs': [u'movieID1', u'movieID2'], u'byID': {u'movieID1': {u'Actors': u'Felicity Jones, Diego Luna, Alan Tudyk, Donnie Yen', u'id': u'movieID1', u'Title': u'Rogue One'}, u'movieID2': {u'Actors': u'Gal Gadot, Robin Wright, David Thewlis, Connie Nielsen', u'id': u'movieID2', u'Title': u'Wonder Woman'}}})\n"
     ]
    }
   ],
   "source": [
    "for key,value in json_data.items():\n",
    "    print(key+': ',value)"
   ]
  },
  {
   "cell_type": "code",
   "execution_count": 14,
   "metadata": {},
   "outputs": [
    {
     "name": "stdout",
     "output_type": "stream",
     "text": [
      "(u'movies: ', {u'allIDs': [u'movieID1', u'movieID2'], u'byID': {u'movieID1': {u'Actors': u'Felicity Jones, Diego Luna, Alan Tudyk, Donnie Yen', u'id': u'movieID1', u'Title': u'Rogue One'}, u'movieID2': {u'Actors': u'Gal Gadot, Robin Wright, David Thewlis, Connie Nielsen', u'id': u'movieID2', u'Title': u'Wonder Woman'}}})\n"
     ]
    }
   ],
   "source": [
    "with open('Movies.json') as json_file: \n",
    "    json_data=json.load(json_file)\n",
    "for k in json_data.keys():\n",
    "    print (k +': ',json_data[k])  #we can access a value in a dictionary using dictionary[key]"
   ]
  },
  {
   "cell_type": "code",
   "execution_count": 21,
   "metadata": {},
   "outputs": [
    {
     "data": {
      "text/plain": [
       "u'{\"Title\":\"Game of Thrones\",\"Year\":\"2011\\u2013\",\"Rated\":\"TV-MA\",\"Released\":\"17 Apr 2011\",\"Runtime\":\"57 min\",\"Genre\":\"Action, Adventure, Drama\",\"Director\":\"N/A\",\"Writer\":\"David Benioff, D.B. Weiss\",\"Actors\":\"Peter Dinklage, Lena Headey, Emilia Clarke, Kit Harington\",\"Plot\":\"Nine noble families fight for control over the mythical lands of Westeros, while an ancient enemy returns after being dormant for thousands of years.\",\"Language\":\"English\",\"Country\":\"USA, UK\",\"Awards\":\"Won 1 Golden Globe. Another 259 wins & 466 nominations.\",\"Poster\":\"https://images-na.ssl-images-amazon.com/images/M/MV5BMjE3NTQ1NDg1Ml5BMl5BanBnXkFtZTgwNzY2NDA0MjI@._V1_SX300.jpg\",\"Ratings\":[{\"Source\":\"Internet Movie Database\",\"Value\":\"9.5/10\"}],\"Metascore\":\"N/A\",\"imdbRating\":\"9.5\",\"imdbVotes\":\"1,286,929\",\"imdbID\":\"tt0944947\",\"Type\":\"series\",\"totalSeasons\":\"8\",\"Response\":\"True\"}'"
      ]
     },
     "execution_count": 21,
     "metadata": {},
     "output_type": "execute_result"
    }
   ],
   "source": [
    "#Now we are gonna pull data from the OMDB using their API\n",
    "#the query string should have 2 arguments:apikey(every user must use his own) and t\n",
    "import requests\n",
    "url='http://www.omdbapi.com/?apikey=98c6535f&t=Game+of+Thrones' #for the data corresponding to the movie the Social Network\n",
    "r=requests.get(url)\n",
    "r.text"
   ]
  },
  {
   "cell_type": "code",
   "execution_count": 28,
   "metadata": {},
   "outputs": [
    {
     "name": "stdout",
     "output_type": "stream",
     "text": [
      "(u'Plot', ': ', u'Nine noble families fight for control over the mythical lands of Westeros, while an ancient enemy returns after being dormant for thousands of years.')\n",
      "(u'Rated', ': ', u'TV-MA')\n",
      "(u'Title', ': ', u'Game of Thrones')\n",
      "(u'Ratings', ': ', [{u'Source': u'Internet Movie Database', u'Value': u'9.5/10'}])\n",
      "(u'Writer', ': ', u'David Benioff, D.B. Weiss')\n",
      "(u'Actors', ': ', u'Peter Dinklage, Lena Headey, Emilia Clarke, Kit Harington')\n",
      "(u'Type', ': ', u'series')\n",
      "(u'imdbVotes', ': ', u'1,286,929')\n",
      "(u'totalSeasons', ': ', u'8')\n",
      "(u'Poster', ': ', u'https://images-na.ssl-images-amazon.com/images/M/MV5BMjE3NTQ1NDg1Ml5BMl5BanBnXkFtZTgwNzY2NDA0MjI@._V1_SX300.jpg')\n",
      "(u'Director', ': ', u'N/A')\n",
      "(u'Released', ': ', u'17 Apr 2011')\n",
      "(u'Awards', ': ', u'Won 1 Golden Globe. Another 259 wins & 466 nominations.')\n",
      "(u'Genre', ': ', u'Action, Adventure, Drama')\n",
      "(u'Response', ': ', u'True')\n",
      "(u'Language', ': ', u'English')\n",
      "(u'Country', ': ', u'USA, UK')\n",
      "(u'Runtime', ': ', u'57 min')\n",
      "(u'imdbID', ': ', u'tt0944947')\n",
      "(u'Metascore', ': ', u'N/A')\n",
      "(u'imdbRating', ': ', u'9.5')\n",
      "(u'Year', ': ', u'2011\\u2013')\n"
     ]
    }
   ],
   "source": [
    "#another cool thing with requests is that has associative method with json\n",
    "json_data=r.json()\n",
    "for key,value in json_data.items():   #this returns a dictionary\n",
    "    data=key,': ',value\n",
    "    print(data)"
   ]
  },
  {
   "cell_type": "code",
   "execution_count": 26,
   "metadata": {},
   "outputs": [
    {
     "data": {
      "text/plain": [
       "dict"
      ]
     },
     "execution_count": 26,
     "metadata": {},
     "output_type": "execute_result"
    }
   ],
   "source": [
    "type(json_data)"
   ]
  },
  {
   "cell_type": "code",
   "execution_count": 29,
   "metadata": {},
   "outputs": [
    {
     "data": {
      "text/plain": [
       "tuple"
      ]
     },
     "execution_count": 29,
     "metadata": {},
     "output_type": "execute_result"
    }
   ],
   "source": [
    "type(data)"
   ]
  },
  {
   "cell_type": "code",
   "execution_count": 33,
   "metadata": {},
   "outputs": [
    {
     "name": "stdout",
     "output_type": "stream",
     "text": [
      "(u'Plot', ': ', u'Harvard student Mark Zuckerberg creates the social networking site that would become known as Facebook, but is later sued by two brothers who claimed he stole their idea, and the co-founder who was later squeezed out of the business.')\n",
      "(u'Rated', ': ', u'PG-13')\n",
      "(u'Title', ': ', u'The Social Network')\n",
      "(u'Ratings', ': ', [{u'Source': u'Internet Movie Database', u'Value': u'7.7/10'}, {u'Source': u'Rotten Tomatoes', u'Value': u'96%'}, {u'Source': u'Metacritic', u'Value': u'95/100'}])\n",
      "(u'DVD', ': ', u'11 Jan 2011')\n",
      "(u'Writer', ': ', u'Aaron Sorkin (screenplay), Ben Mezrich (book)')\n",
      "(u'Production', ': ', u'Columbia Pictures')\n",
      "(u'Actors', ': ', u'Jesse Eisenberg, Rooney Mara, Bryan Barter, Dustin Fitzsimons')\n",
      "(u'Type', ': ', u'movie')\n",
      "(u'imdbVotes', ': ', u'534,436')\n",
      "(u'Website', ': ', u'http://www.thesocialnetwork-movie.com/')\n",
      "(u'Poster', ': ', u'https://images-na.ssl-images-amazon.com/images/M/MV5BMTM2ODk0NDAwMF5BMl5BanBnXkFtZTcwNTM1MDc2Mw@@._V1_SX300.jpg')\n",
      "(u'Director', ': ', u'David Fincher')\n",
      "(u'Released', ': ', u'01 Oct 2010')\n",
      "(u'Awards', ': ', u'Won 3 Oscars. Another 165 wins & 168 nominations.')\n",
      "(u'Genre', ': ', u'Biography, Drama')\n",
      "(u'imdbRating', ': ', u'7.7')\n",
      "(u'Language', ': ', u'English, French')\n",
      "(u'Country', ': ', u'USA')\n",
      "(u'BoxOffice', ': ', u'$96,400,000')\n",
      "(u'Runtime', ': ', u'120 min')\n",
      "(u'imdbID', ': ', u'tt1285016')\n",
      "(u'Metascore', ': ', u'95')\n",
      "(u'Response', ': ', u'True')\n",
      "(u'Year', ': ', u'2010')\n"
     ]
    }
   ],
   "source": [
    "#Example-another query and another way for getting key:value pairs\n",
    "url='http://www.omdbapi.com/?apikey=98c6535f&t=social+network' #for the data corresponding to the movie the Social Network\n",
    "r=requests.get(url)\n",
    "json_data1=r.json()\n",
    "for k in json_data1.keys():   #this returns a dictionary\n",
    "    data1=k,': ',json_data1[k]\n",
    "    print(data1)"
   ]
  },
  {
   "cell_type": "code",
   "execution_count": 41,
   "metadata": {},
   "outputs": [
    {
     "data": {
      "text/plain": [
       "{u'batchcomplete': u'',\n",
       " u'query': {u'normalized': [{u'from': u'pizza', u'to': u'Pizza'}],\n",
       "  u'pages': {u'24768': {u'extract': u'<p><b>Pizza</b> is a traditional Italian dish consisting of a yeasted flatbread typically topped with tomato sauce and cheese and baked in an oven. It can also be topped with additional vegetables, meats, and condiments, and can be made without cheese.</p>\\n<p>The term <i>pizza</i> was first recorded in the 10th century, in a Latin manuscript from the Southern Italian town of Gaeta in Lazio, on the border with Campania. Modern pizza was invented in Naples, and the dish and its variants have since become popular and common in many areas of the world. In 2009, upon Italy\\'s request, Neapolitan pizza was registered with the European Union as a Traditional Speciality Guaranteed dish. The <i>Associazione Verace Pizza Napoletana</i> (True Neapolitan Pizza Association), a non-profit organization founded in 1984 with headquarters in Naples, aims to \"promote and protect... the true Neapolitan pizza\".</p>\\n<p>Pizza is one of the most popular foods in the world and common fast food item in Europe and North America. Many independent or chain restaurants, cafes, and fast food outlets offer pizza. Restaurants or chains specializing in pizza are pizzerias. Pizza delivery is common in some parts of the world.</p>\\n<p>Pizza is sold fresh or frozen, either whole or in portions. Various types of ovens are used to cook them and many varieties exist. Several similar dishes are prepared from ingredients commonly used in pizza preparation, such as calzone and stromboli. In the United States, pizza is usually eaten out of hand after dividing into slices from a large pizza or small pizzetta as a whole. In Italy, pizza is eaten with a fork and knife in restaurants, but is also sold to take away and eaten out of hand. Frozen pizza became popular in the late 20th century.</p>\\n<p></p>',\n",
       "    u'ns': 0,\n",
       "    u'pageid': 24768,\n",
       "    u'title': u'Pizza'}}}}"
      ]
     },
     "execution_count": 41,
     "metadata": {},
     "output_type": "execute_result"
    }
   ],
   "source": [
    "#Wikipedia API\n",
    "#Wikipedia page for pizza\n",
    "#our query will return nested JSON that is JSON with JSON, but Python can handle that translating it into dictionary within dictionary\n",
    "import requests\n",
    "url='https://en.wikipedia.org/w/api.php?action=query&prop=extracts&format=json&exintro=&titles=pizza'\n",
    "r=requests.get(url)\n",
    "json_data=r.json()\n",
    "json_data"
   ]
  },
  {
   "cell_type": "code",
   "execution_count": 42,
   "metadata": {},
   "outputs": [
    {
     "data": {
      "text/plain": [
       "u'<p><b>Pizza</b> is a traditional Italian dish consisting of a yeasted flatbread typically topped with tomato sauce and cheese and baked in an oven. It can also be topped with additional vegetables, meats, and condiments, and can be made without cheese.</p>\\n<p>The term <i>pizza</i> was first recorded in the 10th century, in a Latin manuscript from the Southern Italian town of Gaeta in Lazio, on the border with Campania. Modern pizza was invented in Naples, and the dish and its variants have since become popular and common in many areas of the world. In 2009, upon Italy\\'s request, Neapolitan pizza was registered with the European Union as a Traditional Speciality Guaranteed dish. The <i>Associazione Verace Pizza Napoletana</i> (True Neapolitan Pizza Association), a non-profit organization founded in 1984 with headquarters in Naples, aims to \"promote and protect... the true Neapolitan pizza\".</p>\\n<p>Pizza is one of the most popular foods in the world and common fast food item in Europe and North America. Many independent or chain restaurants, cafes, and fast food outlets offer pizza. Restaurants or chains specializing in pizza are pizzerias. Pizza delivery is common in some parts of the world.</p>\\n<p>Pizza is sold fresh or frozen, either whole or in portions. Various types of ovens are used to cook them and many varieties exist. Several similar dishes are prepared from ingredients commonly used in pizza preparation, such as calzone and stromboli. In the United States, pizza is usually eaten out of hand after dividing into slices from a large pizza or small pizzetta as a whole. In Italy, pizza is eaten with a fork and knife in restaurants, but is also sold to take away and eaten out of hand. Frozen pizza became popular in the late 20th century.</p>\\n<p></p>'"
      ]
     },
     "execution_count": 42,
     "metadata": {},
     "output_type": "execute_result"
    }
   ],
   "source": [
    "pizza_extract=json_data['query']['pages']['24768']['extract']\n",
    "pizza_extract"
   ]
  },
  {
   "cell_type": "code",
   "execution_count": null,
   "metadata": {
    "collapsed": true
   },
   "outputs": [],
   "source": []
  }
 ],
 "metadata": {
  "kernelspec": {
   "display_name": "Python 2",
   "language": "python",
   "name": "python2"
  },
  "language_info": {
   "codemirror_mode": {
    "name": "ipython",
    "version": 2
   },
   "file_extension": ".py",
   "mimetype": "text/x-python",
   "name": "python",
   "nbconvert_exporter": "python",
   "pygments_lexer": "ipython2",
   "version": "2.7.14"
  }
 },
 "nbformat": 4,
 "nbformat_minor": 2
}
